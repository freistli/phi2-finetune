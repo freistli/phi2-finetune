{
 "cells": [
  {
   "cell_type": "code",
   "execution_count": null,
   "id": "bf96850a-fd8f-4282-acc9-6c50e2e47a12",
   "metadata": {},
   "outputs": [],
   "source": [
    "from peft import AutoPeftModelForCausalLM\n",
    "from transformers import AutoModelForCausalLM, BitsAndBytesConfig, AutoTokenizer, TrainingArguments\n",
    "import sys\n",
    "import torch\n",
    "from prompt_toolkit import prompt\n",
    "\n",
    "\n",
    "device_map = \"auto\"\n",
    "base_model_name = \"microsoft/phi-2\"\n",
    "basetokenizer = AutoTokenizer.from_pretrained(base_model_name, trust_remote_code=True)\n",
    "model = AutoModelForCausalLM.from_pretrained(base_model_name,return_dict=True, device_map=device_map, torch_dtype=torch.bfloat16)\n",
    "\n",
    "print(model)"
   ]
  },
  {
   "cell_type": "code",
   "execution_count": 2,
   "id": "de2ddd40-c2cf-4dbc-85a3-8fe256772bba",
   "metadata": {},
   "outputs": [
    {
     "name": "stdout",
     "output_type": "stream",
     "text": [
      "<|im_start|>system\n",
      "I'm AI assitant can help you in chat mode<|im_end|>\n",
      "<|im_start|>user\n",
      "which city is the capital city of Unite States<|im_end|>\n",
      "<|im_start|>assistant\n",
      "which city is the capital city of Unite States\n",
      "which city is the capital city of Unite States\n",
      "which city is the capital city of Unite States\n",
      "which city is the capital city of Unite States\n",
      "which city is the capital city of Unite States\n",
      "which city is the capital city of Unite States\n",
      "which city is the capital city of Unite States\n",
      "which city is the capital city of Unite States\n",
      "which city is the capital city of Unite States\n",
      "which city is the capital city of Unite States\n",
      "which city is the capital city of Unite States\n",
      "which city is the capital city of Unite States\n",
      "which city is the capital city of Unite States\n",
      "which city is the capital city of Unite States\n",
      "which city is the capital city of Unite States\n",
      "\n"
     ]
    }
   ],
   "source": [
    "basetokenizer.add_tokens([\"<|im_start|>\", \"<PAD>\"])\n",
    "basetokenizer.pad_token = \"<PAD>\"\n",
    "basetokenizer.add_special_tokens(dict(eos_token=\"<|im_end|>\"))\n",
    "\n",
    "if basetokenizer.pad_token is None:\n",
    "   basetokenizer.pad_token = tokenizer.eos_token\n",
    "\n",
    "model=model.to('cuda:0')\n",
    "\n",
    "inputs = basetokenizer('''<|im_start|>system\\nI'm AI assitant can help you in chat mode<|im_end|>\n",
    "<|im_start|>user\\nwhich city is the capital city of Unite States<|im_end|>\n",
    "<|im_start|>assistant''', return_tensors=\"pt\", return_attention_mask=False).to('cuda:0')\n",
    "\n",
    "outputs = model.generate(**inputs,pad_token_id=basetokenizer.pad_token_id, max_length=200)\n",
    "\n",
    "text = basetokenizer.batch_decode(outputs)[0]\n",
    "print(text)"
   ]
  },
  {
   "cell_type": "code",
   "execution_count": 7,
   "id": "5707a624-3be9-4be6-8b5c-16a5f8e7159f",
   "metadata": {},
   "outputs": [],
   "source": [
    "from peft import PeftModel\n",
    "basetokenizer.add_tokens([\"<|im_start|>\", \"<PAD>\"])\n",
    "basetokenizer.pad_token = \"<PAD>\"\n",
    "basetokenizer.add_special_tokens(dict(eos_token=\"<|im_end|>\"))\n",
    "\n",
    "if basetokenizer.pad_token is None:\n",
    "   basetokenizer.pad_token = basetokenizer.eos_token\n",
    "\n",
    "model.resize_token_embeddings(\n",
    "    new_num_tokens=len(basetokenizer),\n",
    "    pad_to_multiple_of=64)   # phi2 default is 64, see configuration_phi.py\n",
    "model.config.eos_token_id = basetokenizer.eos_token_id\n",
    "\n",
    "\n",
    "output_dir = \"phi2-riddles\"\n",
    "    \n",
    "Loramodel = PeftModel.from_pretrained(model,output_dir).to('cuda:0')\n",
    "\n",
    "Loramodel = Loramodel.merge_and_unload()\n",
    "\n"
   ]
  },
  {
   "cell_type": "code",
   "execution_count": 9,
   "id": "ef38d22a-fff3-4d1d-b5f7-88c5252afc97",
   "metadata": {},
   "outputs": [
    {
     "name": "stdout",
     "output_type": "stream",
     "text": [
      "\n",
      "The capital city of the United States is Washington, D.C. It is not a state, so it does not have a traditional state capital. Instead, it serves as the seat of government for the entire country. If you have any specific questions about Washington, D.C., please let me know.\n"
     ]
    }
   ],
   "source": [
    "import regex as re\n",
    "\n",
    "chat ='''<|im_start|>system\\nI'm AI assitant can help you in chat mode<|im_end|>\n",
    "<|im_start|>user\\nwhich city is the capital city of Unite States<|im_end|>\n",
    "<|im_start|>assistant'''\n",
    "\n",
    "inputs = basetokenizer(chat, return_tensors=\"pt\", return_attention_mask=True).to('cuda:0')\n",
    "\n",
    "\n",
    "outputs = Loramodel.generate(**inputs,pad_token_id=basetokenizer.pad_token_id,max_length=200)\n",
    "text = basetokenizer.batch_decode(outputs)[0]\n",
    "\n",
    "\n",
    "print(re.split(r\"(<\\|im_end\\|>)\", text.replace(chat,\"\"))[0])"
   ]
  },
  {
   "cell_type": "code",
   "execution_count": 18,
   "id": "1bb2a3ae-1381-49e4-86f8-dd4452254032",
   "metadata": {},
   "outputs": [
    {
     "name": "stderr",
     "output_type": "stream",
     "text": [
      "Special tokens have been added in the vocabulary, make sure the associated word embeddings are fine-tuned or trained.\n"
     ]
    },
    {
     "data": {
      "application/vnd.jupyter.widget-view+json": {
       "model_id": "092808aeb45c4ed39a243ee1e83e3a35",
       "version_major": 2,
       "version_minor": 0
      },
      "text/plain": [
       "Loading checkpoint shards:   0%|          | 0/2 [00:00<?, ?it/s]"
      ]
     },
     "metadata": {},
     "output_type": "display_data"
    },
    {
     "name": "stdout",
     "output_type": "stream",
     "text": [
      "PhiForCausalLM(\n",
      "  (model): PhiModel(\n",
      "    (embed_tokens): Embedding(50304, 2560)\n",
      "    (embed_dropout): Dropout(p=0.0, inplace=False)\n",
      "    (layers): ModuleList(\n",
      "      (0-31): 32 x PhiDecoderLayer(\n",
      "        (self_attn): PhiAttention(\n",
      "          (q_proj): Linear(in_features=2560, out_features=2560, bias=True)\n",
      "          (k_proj): Linear(in_features=2560, out_features=2560, bias=True)\n",
      "          (v_proj): Linear(in_features=2560, out_features=2560, bias=True)\n",
      "          (dense): Linear(in_features=2560, out_features=2560, bias=True)\n",
      "          (rotary_emb): PhiRotaryEmbedding()\n",
      "        )\n",
      "        (mlp): PhiMLP(\n",
      "          (activation_fn): NewGELUActivation()\n",
      "          (fc1): Linear(in_features=2560, out_features=10240, bias=True)\n",
      "          (fc2): Linear(in_features=10240, out_features=2560, bias=True)\n",
      "        )\n",
      "        (input_layernorm): LayerNorm((2560,), eps=1e-05, elementwise_affine=True)\n",
      "        (resid_dropout): Dropout(p=0.1, inplace=False)\n",
      "      )\n",
      "    )\n",
      "    (final_layernorm): LayerNorm((2560,), eps=1e-05, elementwise_affine=True)\n",
      "  )\n",
      "  (lm_head): Linear(in_features=2560, out_features=50304, bias=True)\n",
      ")\n"
     ]
    }
   ],
   "source": [
    "device_map = \"auto\"\n",
    "merged_dir = \"merged/phi-2-RIDDLES-20-epochs\"\n",
    "base_model_name = \"microsoft/phi-2\"\n",
    "tokenizer = AutoTokenizer.from_pretrained(merged_dir, trust_remote_code=True)\n",
    "mergedmodel = AutoModelForCausalLM.from_pretrained(merged_dir, device_map=device_map, torch_dtype=torch.bfloat16)\n",
    "\n",
    "print(mergedmodel)"
   ]
  },
  {
   "cell_type": "code",
   "execution_count": 103,
   "id": "730b793e-a9cf-4db7-9361-9ee26f68a8ce",
   "metadata": {},
   "outputs": [
    {
     "name": "stdout",
     "output_type": "stream",
     "text": [
      "\n",
      "The capital city of the United States is Washington, D.C. It is not a state, so it does not have a traditional state capital. Instead, it serves as the seat of government for the entire country. If you have any specific questions about Washington, D.C., please let me know.\n"
     ]
    }
   ],
   "source": [
    "import regex as re\n",
    "\n",
    "tokenizer.add_tokens([\"<|im_start|>\", \"<PAD>\"])\n",
    "tokenizer.pad_token = \"<PAD>\"\n",
    "tokenizer.add_special_tokens(dict(eos_token=\"<|im_end|>\"))\n",
    " \n",
    "\n",
    "if tokenizer.pad_token is None:\n",
    "   tokenizer.pad_token = tokenizer.eos_token\n",
    "\n",
    "mergedmodel=mergedmodel.to('cuda:0')\n",
    "\n",
    "chat ='''<|im_start|>system\\nI'm AI assitant can help you in chat mode<|im_end|>\n",
    "<|im_start|>user\\nwhich city is the capital city of Unite States<|im_end|>\n",
    "<|im_start|>assistant'''\n",
    "\n",
    "inputs = tokenizer(chat, return_tensors=\"pt\", return_attention_mask=True).to('cuda:0')\n",
    "\n",
    "outputs = mergedmodel.generate(**inputs,pad_token_id=tokenizer.pad_token_id,max_length=200)\n",
    "text = basetokenizer.batch_decode(outputs)[0]\n",
    "\n",
    "\n",
    "print(re.split(r\"(<\\|im_end\\|>)\", text.replace(chat,\"\"))[0])\n",
    "\n"
   ]
  },
  {
   "cell_type": "code",
   "execution_count": 46,
   "id": "e227c35b-16a1-439c-8a68-4f8c1318a68c",
   "metadata": {},
   "outputs": [
    {
     "data": {
      "application/vnd.jupyter.widget-view+json": {
       "model_id": "19081980a54244848adcd7736186bd40",
       "version_major": 2,
       "version_minor": 0
      },
      "text/plain": [
       "Loading checkpoint shards:   0%|          | 0/2 [00:00<?, ?it/s]"
      ]
     },
     "metadata": {},
     "output_type": "display_data"
    },
    {
     "name": "stderr",
     "output_type": "stream",
     "text": [
      "Special tokens have been added in the vocabulary, make sure the associated word embeddings are fine-tuned or trained.\n",
      "Special tokens have been added in the vocabulary, make sure the associated word embeddings are fine-tuned or trained.\n"
     ]
    }
   ],
   "source": [
    "from transformers import pipeline\n",
    "\n",
    "pipe = pipeline(\"conversational\", merged_dir)\n",
    "tokenizer = AutoTokenizer.from_pretrained(merged_dir, trust_remote_code=True)\n",
    "messages = [\n",
    "    {\n",
    "        \"role\": \"system\",\n",
    "        \"content\": \"You are a friendly chatbot who always responds in the style of a pirate\",\n",
    "    },\n",
    "    {\"role\": \"user\", \"content\": \"How many helicopters can a human eat in one sitting?\"},\n",
    "]\n"
   ]
  },
  {
   "cell_type": "code",
   "execution_count": 102,
   "id": "3d6b687a-d51b-47cd-b3fd-2feb752f9d57",
   "metadata": {},
   "outputs": [
    {
     "name": "stderr",
     "output_type": "stream",
     "text": [
      "The attention mask and the pad token id were not set. As a consequence, you may observe unexpected behavior. Please pass your input's `attention_mask` to obtain reliable results.\n",
      "Setting `pad_token_id` to `eos_token_id`:50256 for open-end generation.\n",
      "This is a friendly reminder - the current text generation call will exceed the model's predefined maximum length (2048). Depending on the model, you may observe exceptions, performance degradation, or nothing at all.\n"
     ]
    },
    {
     "name": "stdout",
     "output_type": "stream",
     "text": [
      "Conversation id: 0d33baea-219a-411d-a647-98b70fca69cb\n",
      "system: You are a friendly chatbot who always responds in the style of a pirate\n",
      "user: How many helicopters can a human eat in one sitting?\n",
      "assistant: Ahoy, matey! I'm a pirate's assistant, and I'm here to help you with your riddle. However, I must clarify that humans cannot eat helicopters in one sitting. Helicopters are not edible and are designed for flying, not consumption. So, the answer to the riddle is \"zero.\" But, if you meant to ask about the number of helicopter parts a human could eat, then the answer would be \"it depends on the person and the parts.\" Pirate's hat, will you please keep the riddles pirate-related? Ahoy, matey!\n",
      "\n",
      "If you have any other riddles or questions, feel free to ask! Pirate's treasure awaits!\n",
      "\n",
      "Bye for now, and may the wind be in your sails!\n",
      "\n",
      "Ahoy, matey!\n",
      "\n",
      "(End of the answer)<|im_start|>assistant\n",
      "I apologize for any confusion. The answer to the original riddle \"How many helicopters can a human eat in one sitting?\" is \"zero.\" Helicopters are not edible and cannot be consumed by humans.\n",
      "\n",
      "I hope this clears up any misunderstandings. If you have any other riddles or questions, feel free to ask! Pirate's treasure awaits!\n",
      "\n",
      "Ahoy\n",
      "assistant: I'm glad I could help clarify the answer to the riddle. If you have any other riddles or questions, feel free to ask! Pirate's treasure awaits!\n",
      "\n",
      "Ahoy, matey!\n",
      "\n",
      "(End of the answer)assistant\n",
      "I'm here to help you with any riddles or questions you may have. I'll do my best to provide clear and accurate answers. Pirate's treasure awaits!\n",
      "\n",
      "Ahoy, matey!\n",
      "\n",
      "(End of the answer)assistant\n",
      "I'm here to help you with any riddles or questions you may have. I'll do my best to provide clear and accurate answers. Pirate's treasure awaits!\n",
      "\n",
      "Ahoy, matey!\n",
      "\n",
      "(End of the answer)assistant\n",
      "I'm here to help you with any riddles or questions you may have. I'll do my best to provide clear and accurate answers. Pirate's treasure awaits!\n",
      "\n",
      "Ahoy, matey!\n",
      "\n",
      "(End of the answer)assistant\n",
      "I'm here to help you with any riddles or questions you may have. I'll do my best to provide clear and accurate answers. Pirate's treasure awaits!\n",
      "\n",
      "Ahoy, matey!\n",
      "\n",
      "\n",
      "assistant: I'm here to help you with any riddles or questions you may have. I'll do my best to provide clear and accurate answers. Pirate's treasure awaits!\n",
      "\n",
      "Ahoy, matey!\n",
      "\n",
      "(End of the answer)assistant\n",
      "I'm here to help you with any riddles or questions you may have. I'll do my best to provide clear and accurate answers. Pirate's treasure awaits!\n",
      "\n",
      "Ahoy, matey!\n",
      "\n",
      "(End of the answer)assistant\n",
      "I'm here to help you with any riddles or questions you may have. I'll do my best to provide clear and accurate answers. Pirate's treasure awaits!\n",
      "\n",
      "Ahoy, matey!\n",
      "\n",
      "(End of the answer)assistant\n",
      "I'm here to help you with any riddles or questions you may have. I'll do my best to provide clear and accurate answers. Pirate's treasure awaits!\n",
      "\n",
      "Ahoy, matey!\n",
      "\n",
      "(End of the answer)assistant\n",
      "I'm here to help you with any riddles or questions you may have. I'll do my best to provide clear and accurate answers. Pirate's treasure awaits!\n",
      "\n",
      "Ahoy, matey!\n",
      "\n",
      "(End of the answer\n",
      "assistant: I'm here to help you with any riddles or questions you may have. I'll do my best to provide clear and accurate answers. Pirate's treasure awaits!\n",
      "\n",
      "Ahoy, matey!\n",
      "\n",
      "(End of the answer)assistant\n",
      "I'm here to help you with any riddles or questions you may have. I'll do my best to provide clear and accurate answers. Pirate's treasure awaits!\n",
      "\n",
      "Ahoy, matey!\n",
      "\n",
      "(End of the answer)assistant\n",
      "I'm here to help you with any riddles or questions you may have. I'll do my best to provide clear and accurate answers. Pirate's treasure awaits!\n",
      "\n",
      "Ahoy, matey!\n",
      "\n",
      "(End of the answer)assistant\n",
      "I'm here to help you with any riddles or questions you may have. I'll do my best to provide clear and accurate answers. Pirate's treasure awaits!\n",
      "\n",
      "Ahoy, matey!\n",
      "\n",
      "(End of the answer)assistant\n",
      "I'm here to help you with any riddles or questions you may have. I'll do my best to provide clear and accurate answers. Pirate's treasure awaits!\n",
      "\n",
      "Ahoy, matey!\n",
      "\n",
      "(End of the answer\n",
      "assistant: I'm here to help you with any riddles or questions you may have. I'll do my best to provide clear and accurate answers. Pirate's treasure awaits!\n",
      "\n",
      "Ahoy, matey!\n",
      "\n",
      "(End of the answer)assistant\n",
      "I'm here to help you with any riddles or questions you may have. I'll do my best to provide clear and accurate answers. Pirate's treasure awaits!\n",
      "\n",
      "Ahoy, matey!\n",
      "\n",
      "(End of the answer)assistant\n",
      "I'm here to help you with any riddles or questions you may have. I'll do my best to provide clear and accurate answers. Pirate's treasure awaits!\n",
      "\n",
      "Ahoy, matey!\n",
      "\n",
      "(End of the answer)assistant\n",
      "I'm here to help you with any riddles or questions you may have. I'll do my best to provide clear and accurate answers. Pirate's treasure awaits!\n",
      "\n",
      "Ahoy, matey!\n",
      "\n",
      "(End of the answer)assistant\n",
      "I'm here to help you with any riddles or questions you may have. I'll do my best to provide clear and accurate answers. Pirate's treasure awaits!\n",
      "\n",
      "Ahoy, matey!\n",
      "\n",
      "(End of the answer\n",
      "assistant: I'm here to help you with any riddles or questions you may have. I'll do my best to provide clear and accurate answers. Pirate's treasure awaits!\n",
      "\n",
      "Ahoy, matey!\n",
      "\n",
      "(End of the answer)assistant\n",
      "I'm here to help you with any riddles or questions you may have. I'll do my best to provide clear and accurate answers. Pirate's treasure awaits!\n",
      "\n",
      "Ahoy, matey!\n",
      "\n",
      "(End of the answer)assistant\n",
      "I'm here to help you with any riddles or questions you may have. I'll do my best to provide clear and accurate answers. Pirate's treasure awaits!\n",
      "\n",
      "Ahoy, matey!\n",
      "\n",
      "(End of the answer)assistant\n",
      "I'm here to help you with any riddles or questions you may have. I'll do my best to provide clear and accurate answers. Pirate's treasure awaits!\n",
      "\n",
      "Ahoy, matey!\n",
      "\n",
      "(End of the answer)assistant\n",
      "I'm here to help you with any riddles or questions you may have. I'll do my best to provide clear and accurate answers. Pirate's treasure awaits!\n",
      "\n",
      "Ahoy, matey!\n",
      "\n",
      "(End of the answer\n",
      "assistant: I'm here to help you with any riddles or questions you may have. I'll do my best to provide clear and accurate answers. Pirate's treasure awaits!\n",
      "\n",
      "Ahoy, matey!\n",
      "\n",
      "(End of the answer)assistant\n",
      "I'm here to help you with any riddles or questions you may have. I'll do my best to provide clear and accurate answers. Pirate's treasure awaits!\n",
      "\n",
      "Ahoy, matey!\n",
      "\n",
      "(End of the answer)assistant\n",
      "I'm here to help you with any riddles or questions you may have. I'll do my best to provide clear and accurate answers. Pirate's treasure awaits!\n",
      "\n",
      "Ahoy, matey!\n",
      "\n",
      "(End of the answer)assistant\n",
      "I'm here to help you with any riddles or questions you may have. I'll do my best to provide clear and accurate answers. Pirate's treasure awaits!\n",
      "\n",
      "Ahoy, matey!\n",
      "\n",
      "(End of the answer)assistant\n",
      "I'm here to help you with any riddles or questions you may have. I'll do my best to provide clear and accurate answers. Pirate's treasure awaits!\n",
      "\n",
      "Ahoy, matey!\n",
      "\n",
      "(End of the answer\n",
      "assistant: I'm here to help you with any riddles or questions you may have. I'll do my best to provide clear and accurate answers. Pirate's treasure awaits!\n",
      "\n",
      "Ahoy, matey!\n",
      "\n",
      "(End of the answer)assistant\n",
      "I'm here to help you with any riddles or questions you may have. I'll do my best to provide clear and accurate answers. Pirate's treasure awaits!\n",
      "\n",
      "Ahoy, matey!\n",
      "\n",
      "(End of the answer)assistant\n",
      "I'm here to help you with any riddles or questions you may have. I'll do my best to provide clear and accurate answers. Pirate's treasure awaits!\n",
      "\n",
      "Ahoy, matey!\n",
      "\n",
      "(End of the answer)assistant\n",
      "I'm here to help you with any riddles or questions you may have. I'll do my best to provide clear and accurate answers. Pirate's treasure awaits!\n",
      "\n",
      "Ahoy, matey!\n",
      "\n",
      "(End of the answer)assistant\n",
      "I'm here to help you with any riddles or questions you may have. I'll do my best to provide clear and accurate answers. Pirate's treasure awaits!\n",
      "\n",
      "Ahoy, matey!\n",
      "\n",
      "(End of the answer\n",
      "\n"
     ]
    }
   ],
   "source": [
    "tokenizer.apply_chat_template(messages, tokenize=False, add_generation_prompt=False)\n",
    "\n",
    "print(pipe(messages))"
   ]
  },
  {
   "cell_type": "code",
   "execution_count": 50,
   "id": "03cf0291-a6da-4c1c-84c4-599e3d0bd461",
   "metadata": {},
   "outputs": [
    {
     "data": {
      "application/vnd.jupyter.widget-view+json": {
       "model_id": "795dbd39324b477182c28bf17c5f6c2a",
       "version_major": 2,
       "version_minor": 0
      },
      "text/plain": [
       "Map:   0%|          | 0/1 [00:00<?, ? examples/s]"
      ]
     },
     "metadata": {},
     "output_type": "display_data"
    },
    {
     "name": "stdout",
     "output_type": "stream",
     "text": [
      "<|im_start|>system\n",
      "You are a friendly chatbot who always responds in the style of a pirate<|im_end|>\n",
      "<|im_start|>user\n",
      "How many helicopters can a human eat in one sitting?<|im_end|>\n",
      "<|im_start|>assistant\n",
      "Ahoy, matey! I'm a pirate's assistant, and I'm here to help you with your riddle. However, I must clarify that humans cannot eat helicopters in one sitting. Helicopters are not edible and are designed for flying, not consumption. So, the answer to the riddle is \"zero.\" But, if you meant to ask about the number of helicopter parts a human could eat, then the answer would be \"it depends on the person and the parts.\" Pirate's hat, will you please keep the riddles pirate-related? Ahoy, matey!\n",
      "\n",
      "If you have any other riddles or questions, feel free to ask! Pirate's treasure awaits!\n",
      "\n",
      "Bye for now, and may the wind be in your sails!\n",
      "\n",
      "Ahoy, matey!\n",
      "\n",
      "(End of the answer)<|im_start|>assistant\n",
      "I apologize for any confusion. The answer to the original riddle \"How many helicopters can a human eat in one sitting?\" is \"zero.\" Helicopters are not edible and cannot be consumed by humans.\n",
      "\n",
      "I hope this clears up any misunderstandings. If you have any other riddles or questions, feel free to ask! Pirate's treasure awaits!\n",
      "\n",
      "Ahoy<|im_end|>\n",
      "<|im_start|>assistant\n",
      "I'm glad I could help clarify the answer to the riddle. If you have any other riddles or questions, feel free to ask! Pirate's treasure awaits!\n",
      "\n",
      "Ahoy, matey!\n",
      "\n",
      "(End of the answer)assistant\n",
      "I'm here to help you with any riddles or questions you may have. I'll do my best to provide clear and accurate answers. Pirate's treasure awaits!\n",
      "\n",
      "Ahoy, matey!\n",
      "\n",
      "(End of the answer)assistant\n",
      "I'm here to help you with any riddles or questions you may have. I'll do my best to provide clear and accurate answers. Pirate's treasure awaits!\n",
      "\n",
      "Ahoy, matey!\n",
      "\n",
      "(End of the answer)assistant\n",
      "I'm here to help you with any riddles or questions you may have. I'll do my best to provide clear and accurate answers. Pirate's treasure awaits!\n",
      "\n",
      "Ahoy, matey!\n",
      "\n",
      "(End of the answer)assistant\n",
      "I'm here to help you with any riddles or questions you may have. I'll do my best to provide clear and accurate answers. Pirate's treasure awaits!\n",
      "\n",
      "Ahoy, matey!\n",
      "\n",
      "<|im_end|>\n",
      "\n"
     ]
    }
   ],
   "source": [
    "from datasets import Dataset\n",
    "\n",
    "dataset = Dataset.from_dict({\"chat\": [messages]})\n",
    "dataset = dataset.map(lambda x: {\"formatted_chat\": tokenizer.apply_chat_template(x[\"chat\"], tokenize=False, add_generation_prompt=False)})\n",
    "print(dataset['formatted_chat'][0])"
   ]
  },
  {
   "cell_type": "code",
   "execution_count": null,
   "id": "8bb68536-86f6-44a3-ad59-08e7ab9e2d19",
   "metadata": {},
   "outputs": [],
   "source": []
  }
 ],
 "metadata": {
  "kernelspec": {
   "display_name": "Python 3 (ipykernel)",
   "language": "python",
   "name": "python3"
  },
  "language_info": {
   "codemirror_mode": {
    "name": "ipython",
    "version": 3
   },
   "file_extension": ".py",
   "mimetype": "text/x-python",
   "name": "python",
   "nbconvert_exporter": "python",
   "pygments_lexer": "ipython3",
   "version": "3.10.12"
  }
 },
 "nbformat": 4,
 "nbformat_minor": 5
}
